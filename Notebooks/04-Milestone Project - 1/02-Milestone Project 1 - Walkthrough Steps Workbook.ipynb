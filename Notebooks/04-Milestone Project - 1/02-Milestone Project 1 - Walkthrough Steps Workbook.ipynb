{
 "cells": [
  {
   "cell_type": "markdown",
   "metadata": {},
   "source": [
    "___\n",
    "\n",
    "<a href='https://www.udemy.com/user/joseportilla/'><img src='../Pierian_Data_Logo.png'/></a>\n",
    "___\n",
    "<center><em>Content Copyright by Pierian Data</em></center>"
   ]
  },
  {
   "cell_type": "markdown",
   "metadata": {},
   "source": [
    "# Milestone Project 1: Walkthrough Steps Workbook\n",
    "\n",
    "Below is a set of steps for you to follow to try to create the Tic Tac Toe Milestone Project game!"
   ]
  },
  {
   "cell_type": "markdown",
   "metadata": {},
   "source": [
    "#### Some suggested tools before you get started:\n",
    "To take input from a user:\n",
    "\n",
    "    player1 = input(\"Please pick a marker 'X' or 'O'\")\n",
    "    \n",
    "Note that input() takes in a string. If you need an integer value, use\n",
    "\n",
    "    position = int(input('Please enter a number'))\n",
    "    \n",
    "<br>To clear the screen between moves:\n",
    "\n",
    "    from IPython.display import clear_output\n",
    "    clear_output()\n",
    "    \n",
    "Note that clear_output() will only work in jupyter. To clear the screen in other IDEs, consider:\n",
    "\n",
    "    print('\\n'*100)\n",
    "    \n",
    "This scrolls the previous board up out of view. Now on to the program!"
   ]
  },
  {
   "cell_type": "markdown",
   "metadata": {},
   "source": [
    "**Step 1: Write a function that can print out a board. Set up your board as a list, where each index 1-9 corresponds with a number on a number pad, so you get a 3 by 3 board representation.**"
   ]
  },
  {
   "cell_type": "code",
   "execution_count": 17,
   "metadata": {},
   "outputs": [],
   "source": [
    "from IPython.display import clear_output\n",
    "\n",
    "def display_board(board):\n",
    "    print(f'| {board[1]} | {board[2]} | {board[3]} |')\n",
    "    print('-------------')\n",
    "    print(f'| {board[4]} | {board[5]} | {board[6]} |')\n",
    "    print('-------------')\n",
    "    print(f'| {board[7]} | {board[8]} | {board[9]} |')"
   ]
  },
  {
   "cell_type": "markdown",
   "metadata": {},
   "source": [
    "**TEST Step 1:** run your function on a test version of the board list, and make adjustments as necessary"
   ]
  },
  {
   "cell_type": "code",
   "execution_count": 2,
   "metadata": {},
   "outputs": [
    {
     "name": "stdout",
     "output_type": "stream",
     "text": [
      "| X | O | X |\n",
      "-------------\n",
      "| O | X | O |\n",
      "-------------\n",
      "| X | O | X |\n"
     ]
    }
   ],
   "source": [
    "test_board = ['#','X','O','X','O','X','O','X','O','X']\n",
    "display_board(test_board)"
   ]
  },
  {
   "cell_type": "markdown",
   "metadata": {},
   "source": [
    "**Step 2: Write a function that can take in a player input and assign their marker as 'X' or 'O'. Think about using *while* loops to continually ask until you get a correct answer.**"
   ]
  },
  {
   "cell_type": "code",
   "execution_count": 3,
   "metadata": {},
   "outputs": [],
   "source": [
    "def player_input():\n",
    "    \n",
    "    choice = 'WRONG'\n",
    "    accepted_values = ['X', 'O']\n",
    "    \n",
    "    while choice not in accepted_values:\n",
    "        choice = input(\"Please pick a marker 'X' or 'O': \")\n",
    "        \n",
    "    player1 = choice\n",
    "    accepted_values.remove(choice)\n",
    "    player2 = accepted_values[0]\n",
    "    \n",
    "    print(f'Player1 marker is {player1}, while player two is {player2}!!!')\n",
    "    \n",
    "    return player1, player2\n",
    "    "
   ]
  },
  {
   "cell_type": "markdown",
   "metadata": {},
   "source": [
    "**TEST Step 2:** run the function to make sure it returns the desired output"
   ]
  },
  {
   "cell_type": "code",
   "execution_count": 4,
   "metadata": {},
   "outputs": [
    {
     "name": "stdout",
     "output_type": "stream",
     "text": [
      "Please pick a marker 'X' or 'O': O\n",
      "Player1 marker is O, while player two is X!!!\n"
     ]
    },
    {
     "data": {
      "text/plain": [
       "('O', 'X')"
      ]
     },
     "execution_count": 4,
     "metadata": {},
     "output_type": "execute_result"
    }
   ],
   "source": [
    "player_input()"
   ]
  },
  {
   "cell_type": "markdown",
   "metadata": {},
   "source": [
    "**Step 3: Write a function that takes in the board list object, a marker ('X' or 'O'), and a desired position (number 1-9) and assigns it to the board.**"
   ]
  },
  {
   "cell_type": "code",
   "execution_count": 5,
   "metadata": {},
   "outputs": [],
   "source": [
    "def place_marker(board, marker, position):\n",
    "    \n",
    "    board[position] = marker\n",
    "    \n",
    "    return board"
   ]
  },
  {
   "cell_type": "markdown",
   "metadata": {},
   "source": [
    "**TEST Step 3:** run the place marker function using test parameters and display the modified board"
   ]
  },
  {
   "cell_type": "code",
   "execution_count": 6,
   "metadata": {},
   "outputs": [
    {
     "name": "stdout",
     "output_type": "stream",
     "text": [
      "| X | O | O |\n",
      "-------------\n",
      "| O | X | O |\n",
      "-------------\n",
      "| X | O | X |\n"
     ]
    }
   ],
   "source": [
    "place_marker(test_board,'O',3)\n",
    "display_board(test_board)"
   ]
  },
  {
   "cell_type": "markdown",
   "metadata": {},
   "source": [
    "**Step 4: Write a function that takes in a board and a mark (X or O) and then checks to see if that mark has won. **"
   ]
  },
  {
   "cell_type": "code",
   "execution_count": 7,
   "metadata": {},
   "outputs": [],
   "source": [
    "def win_check(board, mark):\n",
    "    counter_marker = 0\n",
    "    \n",
    "    # check rows\n",
    "    for i in range(1,9,3):\n",
    "        for marker in board[i:i+3]:\n",
    "            if marker == mark:\n",
    "                counter_marker += 1\n",
    "            if counter_marker == 3:\n",
    "                print(f\"Winner! row\")\n",
    "                return True\n",
    "        counter_marker = 0\n",
    "    \n",
    "    # check columns\n",
    "    for i in range(1,4):\n",
    "        for marker in board[i::3]:\n",
    "            if marker == mark:\n",
    "                counter_marker += 1\n",
    "            if counter_marker == 3:\n",
    "                print(f\"Winner! col\")\n",
    "                return True\n",
    "        counter_marker = 0\n",
    "        \n",
    "    # check dias\n",
    "    dias = [board[1::4], board[3:8:2]]\n",
    "    for dia in dias:\n",
    "        for marker in dia:\n",
    "            if marker == mark:\n",
    "                counter_marker += 1\n",
    "            if counter_marker == 3:\n",
    "                print(f\"Winner! dia\")\n",
    "                return True\n",
    "        counter_marker = 0\n",
    "        \n",
    "    return False\n",
    "    "
   ]
  },
  {
   "cell_type": "markdown",
   "metadata": {},
   "source": [
    "**TEST Step 4:** run the win_check function against our test_board - it should return True"
   ]
  },
  {
   "cell_type": "code",
   "execution_count": 8,
   "metadata": {},
   "outputs": [
    {
     "name": "stdout",
     "output_type": "stream",
     "text": [
      "| X | O | O |\n",
      "-------------\n",
      "| O | X | O |\n",
      "-------------\n",
      "| X | O | X |\n",
      "Winner! dia\n"
     ]
    },
    {
     "data": {
      "text/plain": [
       "True"
      ]
     },
     "execution_count": 8,
     "metadata": {},
     "output_type": "execute_result"
    }
   ],
   "source": [
    "display_board(test_board)\n",
    "win_check(test_board,'X')"
   ]
  },
  {
   "cell_type": "markdown",
   "metadata": {},
   "source": [
    "**Step 5: Write a function that uses the random module to randomly decide which player goes first. You may want to lookup random.randint() Return a string of which player went first.**"
   ]
  },
  {
   "cell_type": "code",
   "execution_count": 9,
   "metadata": {},
   "outputs": [],
   "source": [
    "from random import randint\n",
    "\n",
    "def choose_first():\n",
    "    x = randint(1,2)\n",
    "    print(f'Player{x} goes first!')\n",
    "    return x"
   ]
  },
  {
   "cell_type": "markdown",
   "metadata": {},
   "source": [
    "**Step 6: Write a function that returns a boolean indicating whether a space on the board is freely available.**"
   ]
  },
  {
   "cell_type": "code",
   "execution_count": 10,
   "metadata": {},
   "outputs": [],
   "source": [
    "def space_check(board, position):\n",
    "    return board[int(position)] == \"-\""
   ]
  },
  {
   "cell_type": "markdown",
   "metadata": {},
   "source": [
    "**Step 7: Write a function that checks if the board is full and returns a boolean value. True if full, False otherwise.**"
   ]
  },
  {
   "cell_type": "code",
   "execution_count": 11,
   "metadata": {},
   "outputs": [],
   "source": [
    "def full_board_check(board):\n",
    "    board_check = 0\n",
    "    for p in board:\n",
    "        if p == \"-\":\n",
    "            return False\n",
    "        else:\n",
    "            pass\n",
    "    return True"
   ]
  },
  {
   "cell_type": "markdown",
   "metadata": {},
   "source": [
    "**Step 8: Write a function that asks for a player's next position (as a number 1-9) and then uses the function from step 6 to check if it's a free position. If it is, then return the position for later use.**"
   ]
  },
  {
   "cell_type": "code",
   "execution_count": 12,
   "metadata": {},
   "outputs": [],
   "source": [
    "def player_choice(board):\n",
    "    \n",
    "    check_again = True\n",
    "    \n",
    "    while check_again:\n",
    "        user_move = input(\"Please choose next move(1-9): \")\n",
    "        if space_check(board, user_move) == True:\n",
    "            check_again = False\n",
    "            \n",
    "    return int(user_move)\n",
    "    "
   ]
  },
  {
   "cell_type": "markdown",
   "metadata": {},
   "source": [
    "**Step 9: Write a function that asks the player if they want to play again and returns a boolean True if they do want to play again.**"
   ]
  },
  {
   "cell_type": "code",
   "execution_count": 13,
   "metadata": {},
   "outputs": [],
   "source": [
    "def replay():\n",
    "    \n",
    "    user_input = \"No\"\n",
    "    \n",
    "    while user_input not in (\"Y\", \"N\"):\n",
    "        user_input = input(\"Do would you like to play again? (Y/N)\")\n",
    "    \n",
    "    if user_input == \"Y\":\n",
    "        return True\n",
    "    else:\n",
    "        return False\n",
    "    "
   ]
  },
  {
   "cell_type": "markdown",
   "metadata": {
    "collapsed": true
   },
   "source": [
    "**Step 10: Here comes the hard part! Use while loops and the functions you've made to run the game!**"
   ]
  },
  {
   "cell_type": "code",
   "execution_count": 18,
   "metadata": {},
   "outputs": [
    {
     "name": "stdout",
     "output_type": "stream",
     "text": [
      "| X | O | X |\n",
      "-------------\n",
      "| X | O | - |\n",
      "-------------\n",
      "| - | O | - |\n",
      "Winner! col\n",
      "-----------------------------\n",
      "Player 1 WINS!\n",
      "-----------------------------\n",
      "Do would you like to play again? (Y/N)N\n",
      "Thank you for playing! Have a nice day!\n"
     ]
    }
   ],
   "source": [
    "print('Welcome to Tic Tac Toe!')\n",
    "\n",
    "start_game = True\n",
    "\n",
    "while start_game:\n",
    "    # Set the game up here\n",
    "    board = ['#','-','-','-','-','-','-','-','-','-']\n",
    "    game_on = True\n",
    "    display_board(board)\n",
    "    p1_marker, p2_marker = player_input()\n",
    "    player_turn = choose_first()\n",
    "    \n",
    "    while game_on:\n",
    "        #Player 1 Turn\n",
    "        if player_turn == 1:\n",
    "            pos = player_choice(board)\n",
    "            board = place_marker(board, p1_marker, pos)\n",
    "            clear_output()\n",
    "            display_board(board)\n",
    "            if win_check(board, p1_marker) == True:\n",
    "                game_on = False\n",
    "                print(\"-----------------------------\")\n",
    "                print(\"Player 1 WINS!\")\n",
    "                print(\"-----------------------------\")\n",
    "                break\n",
    "            else: \n",
    "                player_turn = 2\n",
    "                print(\"Player 2 choose your move.\")\n",
    "        \n",
    "        # Player2's turn.\n",
    "        if player_turn == 2:\n",
    "            pos = player_choice(board)\n",
    "            board = place_marker(board, p2_marker, pos)\n",
    "            clear_output()\n",
    "            display_board(board)\n",
    "            if win_check(board, p2_marker) == True:\n",
    "                game_on = False\n",
    "                print(\"-----------------------------\")\n",
    "                print(\"Player 2 WINS!\")\n",
    "                print(\"-----------------------------\")\n",
    "                break\n",
    "            else: \n",
    "                player_turn = 1\n",
    "                print(\"Player 1 choose your move.\")\n",
    "            \n",
    "        if full_board_check(board):\n",
    "            game_on = False\n",
    "        else:\n",
    "            pass\n",
    "    \n",
    "    start_game = False\n",
    "    \n",
    "    if replay():\n",
    "        start_game = True\n",
    "    else:\n",
    "        print(\"Thank you for playing! Have a nice day!\")\n",
    "        "
   ]
  },
  {
   "cell_type": "markdown",
   "metadata": {
    "collapsed": true
   },
   "source": [
    "## Good Job!"
   ]
  }
 ],
 "metadata": {
  "kernelspec": {
   "display_name": "Python 3",
   "language": "python",
   "name": "python3"
  },
  "language_info": {
   "codemirror_mode": {
    "name": "ipython",
    "version": 3
   },
   "file_extension": ".py",
   "mimetype": "text/x-python",
   "name": "python",
   "nbconvert_exporter": "python",
   "pygments_lexer": "ipython3",
   "version": "3.7.7"
  }
 },
 "nbformat": 4,
 "nbformat_minor": 1
}
