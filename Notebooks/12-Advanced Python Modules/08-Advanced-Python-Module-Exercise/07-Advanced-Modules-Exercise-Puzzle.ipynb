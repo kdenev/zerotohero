{
 "cells": [
  {
   "cell_type": "markdown",
   "metadata": {},
   "source": [
    "___\n",
    "\n",
    "<a href='https://www.udemy.com/user/joseportilla/'><img src='../../Pierian_Data_Logo.png'/></a>\n",
    "___\n",
    "<center><em>Content Copyright by Pierian Data</em></center>"
   ]
  },
  {
   "cell_type": "markdown",
   "metadata": {},
   "source": [
    "# Advanced Modules Exercise Puzzle\n",
    "\n",
    "It's time to test your new skills, this puzzle project will combine multiple skills sets, including unzipping files with Python, using os module to automatically search through lots of files.\n",
    "\n",
    "## Your Goal\n",
    "\n",
    "This is a puzzle, so we don't want to give you too much guidance and instead have you figure out things on your own.\n",
    "\n",
    "There is a .zip file called 'unzip_me_for_instructions.zip', unzip it, open the .txt file with Python, read the instructions and see if you can figure out what you need to do!\n",
    "\n",
    "**If you get stuck or don't know where to start, here is a [guide/hints](https://docs.google.com/document/d/1JxydUr4n4fSR0EwwuwT-aHia-yPK6r-oTBuVT2sqheo/edit?usp=sharing)**"
   ]
  },
  {
   "cell_type": "code",
   "execution_count": 15,
   "metadata": {},
   "outputs": [
    {
     "name": "stdout",
     "output_type": "stream",
     "text": [
      "D:\\Desktop\\Education\\Udemy\\Zero_to_Hero\\Notebooks\\12-Advanced Python Modules\\08-Advanced-Python-Module-Exercise\n"
     ]
    }
   ],
   "source": [
    "# GET WORKING FOLDER\n",
    "import os\n",
    "\n",
    "print(os.getcwd())"
   ]
  },
  {
   "cell_type": "code",
   "execution_count": 16,
   "metadata": {},
   "outputs": [],
   "source": [
    "# UNZIP THE FILES\n",
    "import zipfile\n",
    "\n",
    "zip_obj = zipfile.ZipFile('unzip_me_for_instructions.zip','r')\n",
    "zip_obj.extractall(\"extracted_content\")"
   ]
  },
  {
   "cell_type": "code",
   "execution_count": 20,
   "metadata": {},
   "outputs": [
    {
     "name": "stdout",
     "output_type": "stream",
     "text": [
      "['extracted_content', 'Five', 'Four', 'Instructions.txt', 'One', 'Three', 'Two']\n"
     ]
    }
   ],
   "source": [
    "# CHECK THE EXTRACTED CONTENT\n",
    "\n",
    "print(os.listdir(\"extracted_content\"))\n"
   ]
  },
  {
   "cell_type": "code",
   "execution_count": 21,
   "metadata": {},
   "outputs": [],
   "source": [
    "# READ THE INSTRUCTIONS\n",
    "inst = open('extracted_content\\\\Instructions.txt','r')"
   ]
  },
  {
   "cell_type": "code",
   "execution_count": 22,
   "metadata": {},
   "outputs": [
    {
     "name": "stdout",
     "output_type": "stream",
     "text": [
      "Good work on unzipping the file!\n",
      "\n",
      "You should now see 5 folders, each with a lot of random .txt files.\n",
      "\n",
      "Within one of these text files is a telephone number formated ###-###-#### \n",
      "\n",
      "Use the Python os module and regular expressions to iterate through each file, open it, and search for a telephone number.\n",
      "\n",
      "Good luck!\n"
     ]
    }
   ],
   "source": [
    "for line in inst:\n",
    "    print(line)"
   ]
  },
  {
   "cell_type": "code",
   "execution_count": 67,
   "metadata": {},
   "outputs": [
    {
     "name": "stdout",
     "output_type": "stream",
     "text": [
      "\n",
      "\n",
      "\n",
      "\n",
      "\t\tTHIS IS THE ONE !!!!!!!!! EMTGPSXQEJX.txt\n",
      "719-266-2837\n",
      "\n",
      "\n",
      "\n",
      "\n",
      "\n",
      "\n",
      "\n",
      "\n",
      "All files that have numbers are: ['extracted_content\\\\Four\\\\EMTGPSXQEJX.txt']\n"
     ]
    }
   ],
   "source": [
    "# OPENING THE FILES AND LOOKING FOR THE PHONE NUMBER\n",
    "import re\n",
    "\n",
    "pattern = r'(\\d{3})-(\\d{3}-(\\d{4}))'\n",
    "file_names = []\n",
    "\n",
    "for folder , sub_folders , files in os.walk(\"extracted_content\"):\n",
    "    \n",
    "#     print(\"Currently looking at folder: \"+ folder)\n",
    "#     print('\\n')\n",
    "#     print(\"THE SUBFOLDERS ARE: \")\n",
    "#     for sub_fold in sub_folders:\n",
    "#         print(\"\\t Subfolder: \"+sub_fold )\n",
    "        \n",
    "#     print('\\n')\n",
    "    \n",
    "#     print(\"THE FILES ARE: \")\n",
    "    for f in files:\n",
    "#         print(\"\\t File: \"+f)\n",
    "        txt = open(f'{folder}\\\\{f}', 'r')\n",
    "        text = ''\n",
    "        for l in txt:\n",
    "            text += l \n",
    "        match = re.search(pattern,text)\n",
    "        txt.close()\n",
    "        if match != None:\n",
    "            print(f'\\t\\tTHIS IS THE ONE !!!!!!!!! {f}')\n",
    "            file_names.append(f'{folder}\\\\{f}')\n",
    "            print(match.group())\n",
    "        \n",
    "    print('\\n')\n",
    "    \n",
    "print(f'All files that have numbers are: {file_names}')"
   ]
  },
  {
   "cell_type": "code",
   "execution_count": null,
   "metadata": {},
   "outputs": [],
   "source": []
  }
 ],
 "metadata": {
  "anaconda-cloud": {},
  "kernelspec": {
   "display_name": "Python 3 (ipykernel)",
   "language": "python",
   "name": "python3"
  },
  "language_info": {
   "codemirror_mode": {
    "name": "ipython",
    "version": 3
   },
   "file_extension": ".py",
   "mimetype": "text/x-python",
   "name": "python",
   "nbconvert_exporter": "python",
   "pygments_lexer": "ipython3",
   "version": "3.9.7"
  }
 },
 "nbformat": 4,
 "nbformat_minor": 2
}
