{
 "cells": [
  {
   "cell_type": "code",
   "execution_count": 1,
   "id": "7abb2390",
   "metadata": {},
   "outputs": [],
   "source": [
    "def myfunc(a, b):\n",
    "    # Returns 5% of the sum of a and b\n",
    "    return sum((a,b)) * .05"
   ]
  },
  {
   "cell_type": "code",
   "execution_count": 2,
   "id": "5ec9f31a",
   "metadata": {},
   "outputs": [
    {
     "data": {
      "text/plain": [
       "5.0"
      ]
     },
     "execution_count": 2,
     "metadata": {},
     "output_type": "execute_result"
    }
   ],
   "source": [
    "myfunc(40, 60)"
   ]
  },
  {
   "cell_type": "code",
   "execution_count": 12,
   "id": "f2950bc0",
   "metadata": {},
   "outputs": [],
   "source": [
    "def myfunc(*args):\n",
    "    return sum(args)"
   ]
  },
  {
   "cell_type": "code",
   "execution_count": 13,
   "id": "79bd37ae",
   "metadata": {},
   "outputs": [
    {
     "data": {
      "text/plain": [
       "144"
      ]
     },
     "execution_count": 13,
     "metadata": {},
     "output_type": "execute_result"
    }
   ],
   "source": [
    "myfunc(40,44,4,4,4,4,4,4,4,23,3,3,3,)"
   ]
  },
  {
   "cell_type": "code",
   "execution_count": 23,
   "id": "829d9e51",
   "metadata": {},
   "outputs": [],
   "source": [
    "def myfunc(**kwargs):\n",
    "    print(kwargs)\n",
    "    if 'fruit' in kwargs:\n",
    "        print('My fruit of choice is {}'.format(kwargs['fruit']))\n",
    "    else:\n",
    "        print('I did not find any fruit here.')"
   ]
  },
  {
   "cell_type": "code",
   "execution_count": 24,
   "id": "66862910",
   "metadata": {},
   "outputs": [
    {
     "name": "stdout",
     "output_type": "stream",
     "text": [
      "{'fruit': 'apple', 'veggie': 'letuce'}\n",
      "My fruit of choice is apple\n"
     ]
    }
   ],
   "source": [
    "myfunc(fruit = 'apple', veggie = 'letuce')"
   ]
  },
  {
   "cell_type": "code",
   "execution_count": 27,
   "id": "c5e969df",
   "metadata": {},
   "outputs": [],
   "source": [
    "def myfunc(*args, **kwargs):\n",
    "    print(args)\n",
    "    print(kwargs)\n",
    "    print('I would like {} {}'.format(args[0], kwargs['food']))"
   ]
  },
  {
   "cell_type": "code",
   "execution_count": 28,
   "id": "5d70c547",
   "metadata": {},
   "outputs": [
    {
     "name": "stdout",
     "output_type": "stream",
     "text": [
      "(10, 20, 30)\n",
      "{'fruit': 'orange', 'food': 'eggs'}\n",
      "I would like 10 eggs\n"
     ]
    }
   ],
   "source": [
    "myfunc(10,20,30, fruit = 'orange', food ='eggs')"
   ]
  },
  {
   "cell_type": "code",
   "execution_count": 35,
   "id": "38344361",
   "metadata": {},
   "outputs": [],
   "source": [
    "def myfunc(*args):\n",
    "    return list(args)"
   ]
  },
  {
   "cell_type": "code",
   "execution_count": 36,
   "id": "6cb1d26b",
   "metadata": {},
   "outputs": [
    {
     "data": {
      "text/plain": [
       "[10, 3, 3, 3, 3, 3]"
      ]
     },
     "execution_count": 36,
     "metadata": {},
     "output_type": "execute_result"
    }
   ],
   "source": [
    "myfunc(10,3,3,3,3,3)"
   ]
  },
  {
   "cell_type": "code",
   "execution_count": 37,
   "id": "eaeb90b3",
   "metadata": {},
   "outputs": [],
   "source": [
    "def myfunc(*args):\n",
    "    \n",
    "    even_nums = []\n",
    "    \n",
    "    for num in list(args):\n",
    "        if num % 2 == 0:\n",
    "            even_nums.append(num)\n",
    "        else:\n",
    "            pass\n",
    "            \n",
    "    return even_nums"
   ]
  },
  {
   "cell_type": "code",
   "execution_count": 39,
   "id": "99dfe15a",
   "metadata": {},
   "outputs": [
    {
     "data": {
      "text/plain": [
       "[2, 2, 22, 22, 2]"
      ]
     },
     "execution_count": 39,
     "metadata": {},
     "output_type": "execute_result"
    }
   ],
   "source": [
    "myfunc(2,2,22,22,2,3,33,3,3)"
   ]
  },
  {
   "cell_type": "code",
   "execution_count": null,
   "id": "d9db570e",
   "metadata": {},
   "outputs": [],
   "source": []
  }
 ],
 "metadata": {
  "kernelspec": {
   "display_name": "Python 3",
   "language": "python",
   "name": "python3"
  },
  "language_info": {
   "codemirror_mode": {
    "name": "ipython",
    "version": 3
   },
   "file_extension": ".py",
   "mimetype": "text/x-python",
   "name": "python",
   "nbconvert_exporter": "python",
   "pygments_lexer": "ipython3",
   "version": "3.7.6"
  }
 },
 "nbformat": 4,
 "nbformat_minor": 5
}
