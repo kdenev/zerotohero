{
 "cells": [
  {
   "cell_type": "code",
   "execution_count": 2,
   "id": "b5b83e75",
   "metadata": {},
   "outputs": [
    {
     "name": "stdout",
     "output_type": "stream",
     "text": [
      "This is a sting is Inserted\n"
     ]
    }
   ],
   "source": [
    "print('This is a sting is {}'.format('Inserted'))"
   ]
  },
  {
   "cell_type": "code",
   "execution_count": 3,
   "id": "6f12347b",
   "metadata": {},
   "outputs": [
    {
     "name": "stdout",
     "output_type": "stream",
     "text": [
      "The quick brown fox \n"
     ]
    }
   ],
   "source": [
    "print('The {2} {1} {0} '.format('fox', 'brown', 'quick'))"
   ]
  },
  {
   "cell_type": "code",
   "execution_count": 4,
   "id": "10080bc9",
   "metadata": {},
   "outputs": [
    {
     "name": "stdout",
     "output_type": "stream",
     "text": [
      "The quick brown fox \n"
     ]
    }
   ],
   "source": [
    "print('The {q} {b} {f} '.format(f='fox', b='brown', q='quick'))"
   ]
  },
  {
   "cell_type": "code",
   "execution_count": 8,
   "id": "f2bc6ee6",
   "metadata": {},
   "outputs": [],
   "source": [
    "result = 100/777"
   ]
  },
  {
   "cell_type": "code",
   "execution_count": 9,
   "id": "b9d003a7",
   "metadata": {},
   "outputs": [
    {
     "data": {
      "text/plain": [
       "0.1287001287001287"
      ]
     },
     "execution_count": 9,
     "metadata": {},
     "output_type": "execute_result"
    }
   ],
   "source": [
    "result = "
   ]
  },
  {
   "cell_type": "code",
   "execution_count": 16,
   "id": "9857726b",
   "metadata": {},
   "outputs": [
    {
     "name": "stdout",
     "output_type": "stream",
     "text": [
      "The results was 0.12870\n"
     ]
    }
   ],
   "source": [
    "print(\"The results was {r:1.5f}\".format(r=result))"
   ]
  },
  {
   "cell_type": "code",
   "execution_count": 17,
   "id": "861a3ccb",
   "metadata": {},
   "outputs": [
    {
     "name": "stdout",
     "output_type": "stream",
     "text": [
      "The result was 0.12870\n"
     ]
    }
   ],
   "source": [
    "print(f\"The result was {result:1.5f}\")"
   ]
  },
  {
   "cell_type": "code",
   "execution_count": null,
   "id": "1a9c301f",
   "metadata": {},
   "outputs": [],
   "source": []
  }
 ],
 "metadata": {
  "kernelspec": {
   "display_name": "Python 3",
   "language": "python",
   "name": "python3"
  },
  "language_info": {
   "codemirror_mode": {
    "name": "ipython",
    "version": 3
   },
   "file_extension": ".py",
   "mimetype": "text/x-python",
   "name": "python",
   "nbconvert_exporter": "python",
   "pygments_lexer": "ipython3",
   "version": "3.7.6"
  }
 },
 "nbformat": 4,
 "nbformat_minor": 5
}
